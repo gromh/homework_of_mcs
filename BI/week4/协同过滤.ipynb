{
  "nbformat": 4,
  "nbformat_minor": 0,
  "metadata": {
    "colab": {
      "name": "Untitled0.ipynb",
      "provenance": []
    },
    "kernelspec": {
      "name": "python3",
      "display_name": "Python 3"
    }
  },
  "cells": [
    {
      "cell_type": "code",
      "metadata": {
        "id": "qnuUumDz_lvU",
        "colab_type": "code",
        "colab": {
          "base_uri": "https://localhost:8080/",
          "height": 118
        },
        "outputId": "140668f6-b166-4658-cc1e-f443be8db941"
      },
      "source": [
        "!pip install surprise"
      ],
      "execution_count": 9,
      "outputs": [
        {
          "output_type": "stream",
          "text": [
            "Requirement already satisfied: surprise in /usr/local/lib/python3.6/dist-packages (0.1)\n",
            "Requirement already satisfied: scikit-surprise in /usr/local/lib/python3.6/dist-packages (from surprise) (1.1.0)\n",
            "Requirement already satisfied: joblib>=0.11 in /usr/local/lib/python3.6/dist-packages (from scikit-surprise->surprise) (0.15.1)\n",
            "Requirement already satisfied: scipy>=1.0.0 in /usr/local/lib/python3.6/dist-packages (from scikit-surprise->surprise) (1.4.1)\n",
            "Requirement already satisfied: numpy>=1.11.2 in /usr/local/lib/python3.6/dist-packages (from scikit-surprise->surprise) (1.18.5)\n",
            "Requirement already satisfied: six>=1.10.0 in /usr/local/lib/python3.6/dist-packages (from scikit-surprise->surprise) (1.12.0)\n"
          ],
          "name": "stdout"
        }
      ]
    },
    {
      "cell_type": "code",
      "metadata": {
        "id": "iMo7Be8G_sXU",
        "colab_type": "code",
        "colab": {}
      },
      "source": [
        "from surprise import KNNBaseline, KNNBasic, KNNWithMeans, KNNWithZScore"
      ],
      "execution_count": 10,
      "outputs": []
    },
    {
      "cell_type": "code",
      "metadata": {
        "id": "MBITPQChAbR8",
        "colab_type": "code",
        "colab": {}
      },
      "source": [
        "from surprise import Dataset, Reader, accuracy"
      ],
      "execution_count": 18,
      "outputs": []
    },
    {
      "cell_type": "code",
      "metadata": {
        "id": "Sj4AEPr3BerC",
        "colab_type": "code",
        "colab": {}
      },
      "source": [
        "from surprise.model_selection import cross_validate, KFold"
      ],
      "execution_count": 13,
      "outputs": []
    },
    {
      "cell_type": "code",
      "metadata": {
        "id": "jCYmH5auDG9g",
        "colab_type": "code",
        "colab": {}
      },
      "source": [
        "reader = Reader(line_format='user item rating timestamp', sep=',', skip_lines=1)\n",
        "data = Dataset.load_from_file('./ratings.csv', reader=reader)\n",
        "train_data = data.build_full_trainset()"
      ],
      "execution_count": 22,
      "outputs": []
    },
    {
      "cell_type": "code",
      "metadata": {
        "id": "2XPsaqsQLZXA",
        "colab_type": "code",
        "colab": {}
      },
      "source": [
        "algo0 = KNNBaseline()\n",
        "algo1 = KNNBasic()\n",
        "algo2 = KNNWithMeans()\n",
        "algo3 = KNNWithZScore()"
      ],
      "execution_count": 15,
      "outputs": []
    },
    {
      "cell_type": "code",
      "metadata": {
        "id": "thmKXxgNJWk6",
        "colab_type": "code",
        "colab": {
          "base_uri": "https://localhost:8080/",
          "height": 353
        },
        "outputId": "bc45ae56-ff96-41ce-edf7-ea0699503706"
      },
      "source": [
        "cross_validate(algo0, data, measures=['RMSE', 'MAE'], cv=3, verbose=True)"
      ],
      "execution_count": 26,
      "outputs": [
        {
          "output_type": "stream",
          "text": [
            "Estimating biases using als...\n",
            "Computing the msd similarity matrix...\n",
            "Done computing similarity matrix.\n",
            "Estimating biases using als...\n",
            "Computing the msd similarity matrix...\n",
            "Done computing similarity matrix.\n",
            "Estimating biases using als...\n",
            "Computing the msd similarity matrix...\n",
            "Done computing similarity matrix.\n",
            "Evaluating RMSE, MAE of algorithm KNNBaseline on 3 split(s).\n",
            "\n",
            "                  Fold 1  Fold 2  Fold 3  Mean    Std     \n",
            "RMSE (testset)    0.8575  0.8586  0.8570  0.8577  0.0007  \n",
            "MAE (testset)     0.6579  0.6600  0.6569  0.6583  0.0013  \n",
            "Fit time          31.85   31.17   31.87   31.63   0.32    \n",
            "Test time         190.20  189.54  194.97  191.57  2.42    \n"
          ],
          "name": "stdout"
        },
        {
          "output_type": "execute_result",
          "data": {
            "text/plain": [
              "{'fit_time': (31.849572896957397, 31.173908948898315, 31.87498688697815),\n",
              " 'test_mae': array([0.65793475, 0.65997591, 0.65688632]),\n",
              " 'test_rmse': array([0.85749737, 0.85864758, 0.85701651]),\n",
              " 'test_time': (190.1992678642273, 189.54382467269897, 194.97155475616455)}"
            ]
          },
          "metadata": {
            "tags": []
          },
          "execution_count": 26
        }
      ]
    },
    {
      "cell_type": "code",
      "metadata": {
        "id": "CQ7L-s9ccOfe",
        "colab_type": "code",
        "colab": {
          "base_uri": "https://localhost:8080/",
          "height": 302
        },
        "outputId": "f233e267-e564-4a55-d19e-299f9e69cfbf"
      },
      "source": [
        "cross_validate(algo1, data, measures=['RMSE', 'MAE'], cv=3, verbose=True)"
      ],
      "execution_count": 27,
      "outputs": [
        {
          "output_type": "stream",
          "text": [
            "Computing the msd similarity matrix...\n",
            "Done computing similarity matrix.\n",
            "Computing the msd similarity matrix...\n",
            "Done computing similarity matrix.\n",
            "Computing the msd similarity matrix...\n",
            "Done computing similarity matrix.\n",
            "Evaluating RMSE, MAE of algorithm KNNBasic on 3 split(s).\n",
            "\n",
            "                  Fold 1  Fold 2  Fold 3  Mean    Std     \n",
            "RMSE (testset)    0.9032  0.9060  0.9020  0.9037  0.0017  \n",
            "MAE (testset)     0.6907  0.6925  0.6895  0.6909  0.0013  \n",
            "Fit time          28.31   27.18   28.34   27.94   0.54    \n",
            "Test time         176.22  175.38  171.90  174.50  1.87    \n"
          ],
          "name": "stdout"
        },
        {
          "output_type": "execute_result",
          "data": {
            "text/plain": [
              "{'fit_time': (28.308655977249146, 27.176891565322876, 28.33676052093506),\n",
              " 'test_mae': array([0.69069801, 0.69254404, 0.68945502]),\n",
              " 'test_rmse': array([0.90321116, 0.90600414, 0.90198687]),\n",
              " 'test_time': (176.21942520141602, 175.38482546806335, 171.90393805503845)}"
            ]
          },
          "metadata": {
            "tags": []
          },
          "execution_count": 27
        }
      ]
    },
    {
      "cell_type": "code",
      "metadata": {
        "id": "oqWd4cADdzaS",
        "colab_type": "code",
        "colab": {
          "base_uri": "https://localhost:8080/",
          "height": 302
        },
        "outputId": "664b0e07-d69c-4e27-a5fa-86c8f26c04f3"
      },
      "source": [
        "cross_validate(algo2, data, measures=['RMSE', 'MAE'], cv=3, verbose=True)\n",
        "\n"
      ],
      "execution_count": 28,
      "outputs": [
        {
          "output_type": "stream",
          "text": [
            "Computing the msd similarity matrix...\n",
            "Done computing similarity matrix.\n",
            "Computing the msd similarity matrix...\n",
            "Done computing similarity matrix.\n",
            "Computing the msd similarity matrix...\n",
            "Done computing similarity matrix.\n",
            "Evaluating RMSE, MAE of algorithm KNNWithMeans on 3 split(s).\n",
            "\n",
            "                  Fold 1  Fold 2  Fold 3  Mean    Std     \n",
            "RMSE (testset)    0.8812  0.8813  0.8785  0.8803  0.0013  \n",
            "MAE (testset)     0.6792  0.6791  0.6770  0.6784  0.0010  \n",
            "Fit time          28.20   28.24   29.57   28.67   0.64    \n",
            "Test time         193.28  189.64  190.65  191.19  1.54    \n"
          ],
          "name": "stdout"
        },
        {
          "output_type": "execute_result",
          "data": {
            "text/plain": [
              "{'fit_time': (28.20397686958313, 28.235686540603638, 29.572993755340576),\n",
              " 'test_mae': array([0.67918261, 0.6791052 , 0.67699091]),\n",
              " 'test_rmse': array([0.88115234, 0.88125422, 0.87846649]),\n",
              " 'test_time': (193.27879333496094, 189.63647508621216, 190.64706754684448)}"
            ]
          },
          "metadata": {
            "tags": []
          },
          "execution_count": 28
        }
      ]
    },
    {
      "cell_type": "code",
      "metadata": {
        "id": "du6EbSzGfEMF",
        "colab_type": "code",
        "colab": {
          "base_uri": "https://localhost:8080/",
          "height": 302
        },
        "outputId": "f90d9062-f245-4065-d4cf-f51cb786d557"
      },
      "source": [
        "cross_validate(algo3, data, measures=['RMSE', 'MAE'], cv=3, verbose=True)"
      ],
      "execution_count": 29,
      "outputs": [
        {
          "output_type": "stream",
          "text": [
            "Computing the msd similarity matrix...\n",
            "Done computing similarity matrix.\n",
            "Computing the msd similarity matrix...\n",
            "Done computing similarity matrix.\n",
            "Computing the msd similarity matrix...\n",
            "Done computing similarity matrix.\n",
            "Evaluating RMSE, MAE of algorithm KNNWithZScore on 3 split(s).\n",
            "\n",
            "                  Fold 1  Fold 2  Fold 3  Mean    Std     \n",
            "RMSE (testset)    0.8775  0.8782  0.8805  0.8787  0.0013  \n",
            "MAE (testset)     0.6731  0.6728  0.6743  0.6734  0.0006  \n",
            "Fit time          28.49   26.99   29.14   28.21   0.90    \n",
            "Test time         176.70  177.21  191.07  181.66  6.66    \n"
          ],
          "name": "stdout"
        },
        {
          "output_type": "execute_result",
          "data": {
            "text/plain": [
              "{'fit_time': (28.488141298294067, 26.989240646362305, 29.144343852996826),\n",
              " 'test_mae': array([0.67313084, 0.67279992, 0.67428015]),\n",
              " 'test_rmse': array([0.87746408, 0.87819334, 0.88048094]),\n",
              " 'test_time': (176.69518208503723, 177.20932459831238, 191.0735743045807)}"
            ]
          },
          "metadata": {
            "tags": []
          },
          "execution_count": 29
        }
      ]
    }
  ]
}