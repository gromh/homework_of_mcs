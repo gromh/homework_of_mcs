{
  "nbformat": 4,
  "nbformat_minor": 0,
  "metadata": {
    "colab": {
      "name": "Untitled6.ipynb",
      "provenance": []
    },
    "kernelspec": {
      "name": "python3",
      "display_name": "Python 3"
    }
  },
  "cells": [
    {
      "cell_type": "code",
      "metadata": {
        "id": "v2hfWr3NIx6E",
        "colab_type": "code",
        "colab": {
          "base_uri": "https://localhost:8080/",
          "height": 138
        },
        "outputId": "e238ca33-622e-476f-df63-d4ecd3567199"
      },
      "source": [
        "!pip install datasketch"
      ],
      "execution_count": 1,
      "outputs": [
        {
          "output_type": "stream",
          "text": [
            "Collecting datasketch\n",
            "\u001b[?25l  Downloading https://files.pythonhosted.org/packages/e9/7a/975274a59ab7e0117a8304ae97220b5800d31f69813c97753a79239dabac/datasketch-1.5.1-py2.py3-none-any.whl (73kB)\n",
            "\r\u001b[K     |████▌                           | 10kB 22.0MB/s eta 0:00:01\r\u001b[K     |█████████                       | 20kB 6.1MB/s eta 0:00:01\r\u001b[K     |█████████████▍                  | 30kB 7.8MB/s eta 0:00:01\r\u001b[K     |█████████████████▉              | 40kB 8.7MB/s eta 0:00:01\r\u001b[K     |██████████████████████▎         | 51kB 7.1MB/s eta 0:00:01\r\u001b[K     |██████████████████████████▉     | 61kB 8.1MB/s eta 0:00:01\r\u001b[K     |███████████████████████████████▎| 71kB 8.4MB/s eta 0:00:01\r\u001b[K     |████████████████████████████████| 81kB 5.0MB/s \n",
            "\u001b[?25hRequirement already satisfied: numpy>=1.11 in /usr/local/lib/python3.6/dist-packages (from datasketch) (1.18.5)\n",
            "Installing collected packages: datasketch\n",
            "Successfully installed datasketch-1.5.1\n"
          ],
          "name": "stdout"
        }
      ]
    },
    {
      "cell_type": "code",
      "metadata": {
        "id": "04ZRMcZJI1pu",
        "colab_type": "code",
        "colab": {}
      },
      "source": [
        "from datasketch import MinHash, MinHashLSHForest, MinHashLSH, MinHashLSHEnsemble\n",
        "from sklearn.feature_extraction.text import TfidfVectorizer"
      ],
      "execution_count": 2,
      "outputs": []
    },
    {
      "cell_type": "code",
      "metadata": {
        "id": "yQFaoehOJHO0",
        "colab_type": "code",
        "colab": {}
      },
      "source": [
        "from jieba import posseg\n",
        "import re"
      ],
      "execution_count": 4,
      "outputs": []
    },
    {
      "cell_type": "code",
      "metadata": {
        "id": "gO7gQdosJLxj",
        "colab_type": "code",
        "colab": {}
      },
      "source": [
        "f = open('./weibos.txt', 'r', encoding='UTF-8')"
      ],
      "execution_count": 6,
      "outputs": []
    },
    {
      "cell_type": "code",
      "metadata": {
        "id": "3WTJXCZPJb_E",
        "colab_type": "code",
        "colab": {}
      },
      "source": [
        "text = f.read()"
      ],
      "execution_count": 7,
      "outputs": []
    },
    {
      "cell_type": "code",
      "metadata": {
        "id": "hLoKlc2EJjS2",
        "colab_type": "code",
        "colab": {
          "base_uri": "https://localhost:8080/",
          "height": 238
        },
        "outputId": "b78b5986-88f1-431b-97bb-96c2886964e1"
      },
      "source": [
        "text"
      ],
      "execution_count": 8,
      "outputs": [
        {
          "output_type": "execute_result",
          "data": {
            "application/vnd.google.colaboratory.intrinsic+json": {
              "type": "string"
            },
            "text/plain": [
              "'#斯科拉里愿意执教国足#上一届如果是里皮从头芾到尾，是很大机会入世界杯的，这一届，没几个能用的，除非大力归化，谁来都没用。 \\u200b\\n国足输给叙利亚之后，里皮辞职。谁将成为新主帅，成为广大球迷关注的焦点。目前舆论方面，倾向于三个人：山东鲁能主帅李霄鹏、武汉卓尔主帅李铁、前广州恒大主帅斯科拉里。 \\u200b\\n据了解，无论中国足协态度如何，里皮其实在宣布请辞同时已经去意已决。据了解。比赛当晚，他的太太西蒙内塔女士及儿子小里皮都在现场看台上观战。辞职后的里皮没有改变原有的计划——赛后第二天他会从迪拜直接飞回意大利。这意味着，他本来也没打算与球队管理层或中国足协高层在赛后第一时间内进行有关辞职的对话。至于辞职以后的善后工作包括合同问题的沟通工作也要待日后双方进一步协商。\\n让我们回顾一下国足历届外籍教练——里皮，佩兰，卡马乔，杜伊科维奇，阿里·汉，米卢……。来之前一个比一个有名，来之后一个比一个水，国足踢不好完全是足协的问题，足协不解散重组，你把天王老子请来都不行\\n斯科拉里想执教中国国足！老头有点意思，凡是里皮干过的地方，他就想试试。当然，老头也是世界杯冠军教头，万一折在中国这里也没啥丢人的，毕竟里皮也折了嘛！可以试试！\\n斯科拉里的水平，还不如里皮。斯科拉里，看好的不是国足，而是年薪…… \\u200b\\n非常应该辞职！中国足球，不需要名帅，也不需要外籍教练，因为一点儿毛用也没有！从施拉普纳到现在，二十余年间，中国足球竟然大踏步的倒退，一点儿也杀不住车，奶奶的，刹车系统坏了！穿着几百块钱的球衣，几千块钱的球鞋，几万块钱的包，几十万的包机，几百万上千万的年薪\\n赛后，叙利亚主教练在更衣室里给每个队员一个耳光。主教练说：“赛前老子就再三交代，这一场无论如何都不能赢中国队！中国援助了我们那么多粮食和美金，如果他们不再援助我们国家，你狗日些要吃土去！”，球员委屈的说：“七十多分钟了，哪个晓得那个龟儿子往他们家球门踢嘛？”\\n里皮辞职返回意大利，他的助教马达洛尼随队返回广州。马达洛尼在接受采访时还原了当时更衣室中的情况：“当时在更衣室，球员们都过来试图说服里皮，让他收回决定，队长郑智尝试阻止他，足协的代表也希望他在考虑一下，我也建议他重新考虑，但无济于事。”\\n中国足协：接受里皮辞职请求，将深刻反思\\n看了个报道，马达洛尼说：“关于里皮的辞职，我事先也没有被告知，自己也不清楚发生了什么，也许是里皮头脑一热的决定。足协也可以留下我们，教练组所有成员都愿意留下，我们也可以和其他教练合作。” \\u200b\\n因为中国队给斯科拉里开足了薪水，给足了他需要的条件！尤其是最后一句话，看好中国队的潜力，这句话真是太鼓舞人心啦！ \\u200b带队结果绝不会比里皮更差， \\u200b而且我一定能带国足夺得2022世界杯冠军！大家支持斯科拉里不？ \\u200b\\n曾经也以为世界名帅里皮能够带领国足走出迷茫，让国足蒸蒸日上，也让我们国人不再迷茫，吃下一颗定心丸。现在我才知道，其实最应改变的不是教练，而是我们的国足，我们的训练机制、学习机制、培养机制。只有真正做好这些，才能使无论哪位名帅接手都能游刃有余地打好比赛。\\n国足输给叙利亚后，里皮坐不住了，直接辞职了\\n难怪有网友说，爱护生命，远离男足。男足的水平也就跟南极洲企鹅踢球。\\n足协主席赠书《红星照我去战斗》送给中国国脚，埃尔克森、里皮懂红色文化吗？\\n国足昨晚1-2输给叙利亚，赛后主帅里皮宣布辞职。'"
            ]
          },
          "metadata": {
            "tags": []
          },
          "execution_count": 8
        }
      ]
    },
    {
      "cell_type": "code",
      "metadata": {
        "id": "1ON72QmZJlV4",
        "colab_type": "code",
        "colab": {}
      },
      "source": [
        "weibo = re.split('[，！？]', text.replace('\\n', ''))"
      ],
      "execution_count": 9,
      "outputs": []
    },
    {
      "cell_type": "code",
      "metadata": {
        "id": "-wlN4SY-J_mw",
        "colab_type": "code",
        "colab": {
          "base_uri": "https://localhost:8080/",
          "height": 1000
        },
        "outputId": "d06672ac-e3f5-4ee0-bcb5-485669c9daf2"
      },
      "source": [
        "weibo"
      ],
      "execution_count": 10,
      "outputs": [
        {
          "output_type": "execute_result",
          "data": {
            "text/plain": [
              "['#斯科拉里愿意执教国足#上一届如果是里皮从头芾到尾',\n",
              " '是很大机会入世界杯的',\n",
              " '这一届',\n",
              " '没几个能用的',\n",
              " '除非大力归化',\n",
              " '谁来都没用。 \\u200b国足输给叙利亚之后',\n",
              " '里皮辞职。谁将成为新主帅',\n",
              " '成为广大球迷关注的焦点。目前舆论方面',\n",
              " '倾向于三个人：山东鲁能主帅李霄鹏、武汉卓尔主帅李铁、前广州恒大主帅斯科拉里。 \\u200b据了解',\n",
              " '无论中国足协态度如何',\n",
              " '里皮其实在宣布请辞同时已经去意已决。据了解。比赛当晚',\n",
              " '他的太太西蒙内塔女士及儿子小里皮都在现场看台上观战。辞职后的里皮没有改变原有的计划——赛后第二天他会从迪拜直接飞回意大利。这意味着',\n",
              " '他本来也没打算与球队管理层或中国足协高层在赛后第一时间内进行有关辞职的对话。至于辞职以后的善后工作包括合同问题的沟通工作也要待日后双方进一步协商。让我们回顾一下国足历届外籍教练——里皮',\n",
              " '佩兰',\n",
              " '卡马乔',\n",
              " '杜伊科维奇',\n",
              " '阿里·汉',\n",
              " '米卢……。来之前一个比一个有名',\n",
              " '来之后一个比一个水',\n",
              " '国足踢不好完全是足协的问题',\n",
              " '足协不解散重组',\n",
              " '你把天王老子请来都不行斯科拉里想执教中国国足',\n",
              " '老头有点意思',\n",
              " '凡是里皮干过的地方',\n",
              " '他就想试试。当然',\n",
              " '老头也是世界杯冠军教头',\n",
              " '万一折在中国这里也没啥丢人的',\n",
              " '毕竟里皮也折了嘛',\n",
              " '可以试试',\n",
              " '斯科拉里的水平',\n",
              " '还不如里皮。斯科拉里',\n",
              " '看好的不是国足',\n",
              " '而是年薪…… \\u200b非常应该辞职',\n",
              " '中国足球',\n",
              " '不需要名帅',\n",
              " '也不需要外籍教练',\n",
              " '因为一点儿毛用也没有',\n",
              " '从施拉普纳到现在',\n",
              " '二十余年间',\n",
              " '中国足球竟然大踏步的倒退',\n",
              " '一点儿也杀不住车',\n",
              " '奶奶的',\n",
              " '刹车系统坏了',\n",
              " '穿着几百块钱的球衣',\n",
              " '几千块钱的球鞋',\n",
              " '几万块钱的包',\n",
              " '几十万的包机',\n",
              " '几百万上千万的年薪赛后',\n",
              " '叙利亚主教练在更衣室里给每个队员一个耳光。主教练说：“赛前老子就再三交代',\n",
              " '这一场无论如何都不能赢中国队',\n",
              " '中国援助了我们那么多粮食和美金',\n",
              " '如果他们不再援助我们国家',\n",
              " '你狗日些要吃土去',\n",
              " '”',\n",
              " '球员委屈的说：“七十多分钟了',\n",
              " '哪个晓得那个龟儿子往他们家球门踢嘛',\n",
              " '”里皮辞职返回意大利',\n",
              " '他的助教马达洛尼随队返回广州。马达洛尼在接受采访时还原了当时更衣室中的情况：“当时在更衣室',\n",
              " '球员们都过来试图说服里皮',\n",
              " '让他收回决定',\n",
              " '队长郑智尝试阻止他',\n",
              " '足协的代表也希望他在考虑一下',\n",
              " '我也建议他重新考虑',\n",
              " '但无济于事。”中国足协：接受里皮辞职请求',\n",
              " '将深刻反思看了个报道',\n",
              " '马达洛尼说：“关于里皮的辞职',\n",
              " '我事先也没有被告知',\n",
              " '自己也不清楚发生了什么',\n",
              " '也许是里皮头脑一热的决定。足协也可以留下我们',\n",
              " '教练组所有成员都愿意留下',\n",
              " '我们也可以和其他教练合作。” \\u200b因为中国队给斯科拉里开足了薪水',\n",
              " '给足了他需要的条件',\n",
              " '尤其是最后一句话',\n",
              " '看好中国队的潜力',\n",
              " '这句话真是太鼓舞人心啦',\n",
              " ' \\u200b带队结果绝不会比里皮更差',\n",
              " ' \\u200b而且我一定能带国足夺得2022世界杯冠军',\n",
              " '大家支持斯科拉里不',\n",
              " ' \\u200b曾经也以为世界名帅里皮能够带领国足走出迷茫',\n",
              " '让国足蒸蒸日上',\n",
              " '也让我们国人不再迷茫',\n",
              " '吃下一颗定心丸。现在我才知道',\n",
              " '其实最应改变的不是教练',\n",
              " '而是我们的国足',\n",
              " '我们的训练机制、学习机制、培养机制。只有真正做好这些',\n",
              " '才能使无论哪位名帅接手都能游刃有余地打好比赛。国足输给叙利亚后',\n",
              " '里皮坐不住了',\n",
              " '直接辞职了难怪有网友说',\n",
              " '爱护生命',\n",
              " '远离男足。男足的水平也就跟南极洲企鹅踢球。足协主席赠书《红星照我去战斗》送给中国国脚',\n",
              " '埃尔克森、里皮懂红色文化吗',\n",
              " '国足昨晚1-2输给叙利亚',\n",
              " '赛后主帅里皮宣布辞职。']"
            ]
          },
          "metadata": {
            "tags": []
          },
          "execution_count": 10
        }
      ]
    },
    {
      "cell_type": "code",
      "metadata": {
        "id": "UjXW-lXOKAlU",
        "colab_type": "code",
        "colab": {}
      },
      "source": [
        "def get_item_str(item_text):\n",
        "    item_str = \"\" \n",
        "    item=(posseg.cut(item_text)) \n",
        "    for i in list(item):\n",
        "      if i.word not in list(stop):\n",
        "        item_str += i.word\n",
        "        item_str += ' '\n",
        "    return item_str"
      ],
      "execution_count": 19,
      "outputs": []
    },
    {
      "cell_type": "code",
      "metadata": {
        "id": "ulxc1HtWKd3i",
        "colab_type": "code",
        "colab": {}
      },
      "source": [
        "# 对item_str创建MinHash\n",
        "def get_minhash(item_str):\n",
        "    temp = MinHash()\n",
        "    for d in item_str:\n",
        "        temp.update(d.encode('utf8'))\n",
        "    return temp"
      ],
      "execution_count": 13,
      "outputs": []
    },
    {
      "cell_type": "code",
      "metadata": {
        "id": "AoQjL-ryKgOB",
        "colab_type": "code",
        "colab": {}
      },
      "source": [
        "stop = [line.strip().encode('utf-8').decode('utf-8') for line in open('./stopword.txt').readlines()]"
      ],
      "execution_count": 17,
      "outputs": []
    },
    {
      "cell_type": "code",
      "metadata": {
        "id": "aLOOZLXAahnI",
        "colab_type": "code",
        "colab": {
          "base_uri": "https://localhost:8080/",
          "height": 1000
        },
        "outputId": "11137ff6-5dc4-458d-f101-88b9dd66a934"
      },
      "source": [
        "stop"
      ],
      "execution_count": 49,
      "outputs": [
        {
          "output_type": "execute_result",
          "data": {
            "text/plain": [
              "['一',\n",
              " '一般',\n",
              " '一旦',\n",
              " '一方面',\n",
              " '一来',\n",
              " '一切',\n",
              " '一样',\n",
              " '一则',\n",
              " '依',\n",
              " '依照',\n",
              " '矣',\n",
              " '以',\n",
              " '以便',\n",
              " '以及',\n",
              " '以免',\n",
              " '以至',\n",
              " '以至于',\n",
              " '以致',\n",
              " '抑或',\n",
              " '因',\n",
              " '因此',\n",
              " '因而',\n",
              " '因为',\n",
              " '哟',\n",
              " '用',\n",
              " '由',\n",
              " '由此可见',\n",
              " '由于',\n",
              " '有',\n",
              " '有的',\n",
              " '有关',\n",
              " '有些',\n",
              " '又',\n",
              " '于',\n",
              " '于是',\n",
              " '于是乎',\n",
              " '与',\n",
              " '与此同时',\n",
              " '与否',\n",
              " '与其',\n",
              " '越是',\n",
              " '云云',\n",
              " '哉',\n",
              " '再说',\n",
              " '再者',\n",
              " '在',\n",
              " '在下',\n",
              " '咱',\n",
              " '咱们',\n",
              " '则',\n",
              " '怎',\n",
              " '怎么',\n",
              " '怎么办',\n",
              " '怎么样',\n",
              " '怎样',\n",
              " '咋',\n",
              " '照',\n",
              " '照着',\n",
              " '者',\n",
              " '这',\n",
              " '这边',\n",
              " '这儿',\n",
              " '这个',\n",
              " '这会儿',\n",
              " '这就是说',\n",
              " '这里',\n",
              " '这么',\n",
              " '这么点儿',\n",
              " '这么些',\n",
              " '这么样',\n",
              " '这时',\n",
              " '这些',\n",
              " '这样',\n",
              " '正如',\n",
              " '吱',\n",
              " '之',\n",
              " '之类',\n",
              " '之所以',\n",
              " '之一',\n",
              " '只是',\n",
              " '只限',\n",
              " '只要',\n",
              " '只有',\n",
              " '至',\n",
              " '至于',\n",
              " '诸位',\n",
              " '着',\n",
              " '着呢',\n",
              " '自',\n",
              " '自从',\n",
              " '自个儿',\n",
              " '自各儿',\n",
              " '自己',\n",
              " '自家',\n",
              " '自身',\n",
              " '综上所述',\n",
              " '总的来看',\n",
              " '总的来说',\n",
              " '总的说来',\n",
              " '总而言之',\n",
              " '总之',\n",
              " '纵',\n",
              " '纵令',\n",
              " '纵然',\n",
              " '纵使',\n",
              " '遵照',\n",
              " '作为']"
            ]
          },
          "metadata": {
            "tags": []
          },
          "execution_count": 49
        }
      ]
    },
    {
      "cell_type": "code",
      "metadata": {
        "id": "S1LtFfG9NPU9",
        "colab_type": "code",
        "colab": {}
      },
      "source": [
        "documents = []\n",
        "for item_text in weibo:\n",
        "  item_str = get_item_str(item_text)\n",
        "  documents.append(item_str)\n"
      ],
      "execution_count": 50,
      "outputs": []
    },
    {
      "cell_type": "code",
      "metadata": {
        "id": "ANjhBW_cak0d",
        "colab_type": "code",
        "colab": {
          "base_uri": "https://localhost:8080/",
          "height": 1000
        },
        "outputId": "eaf48430-4e29-4330-936f-c03c94178ae6"
      },
      "source": [
        "documents"
      ],
      "execution_count": 51,
      "outputs": [
        {
          "output_type": "execute_result",
          "data": {
            "text/plain": [
              "['# 斯科拉里 愿意 执教 国足 # 上 一届 如果 是 里 皮 从头 芾 到 尾 ',\n",
              " '是 很大 机会 入 世界杯 的 ',\n",
              " '一届 ',\n",
              " '没 几个 能用 的 ',\n",
              " '除非 大力 归化 ',\n",
              " '谁 来 都 没用 。   \\u200b 国 足 输给 叙利亚 之后 ',\n",
              " '里 皮 辞职 。 谁 将 成为 新 主帅 ',\n",
              " '成为 广大 球迷 关注 的 焦点 。 目前 舆论 方面 ',\n",
              " '倾向 三个 人 ： 山东鲁能 主帅 李霄鹏 、 武汉 卓尔 主帅 李铁 、 前 广州 恒大 主帅 斯科拉里 。   \\u200b 据 了解 ',\n",
              " '无论 中国足协 态度 如何 ',\n",
              " '里 皮 其实 宣布 请辞 同时 已经 去 意 已 决 。 据 了解 。 比赛 当晚 ',\n",
              " '他 的 太太 西蒙内塔 女士 及 儿子 小里皮 都 现场 看 台上 观战 。 辞职 后 的 里皮 没有 改变 原有 的 计划 — — 赛后 第二天 他 会 从 迪拜 直接 飞 回 意大利 。 意味着 ',\n",
              " '他 本来 也 没 打算 球队 管理层 或 中国足协 高层 赛后 第一 时间 内 进行 辞职 的 对话 。 辞职 以后 的 善后工作 包括 合同 问题 的 沟通 工作 也 要待 日后 双方 进一步 协商 。 让 我们 回顾 一下 国 足 历届 外籍 教练 — — 里 皮 ',\n",
              " '佩兰 ',\n",
              " '卡马乔 ',\n",
              " '杜伊 科维奇 ',\n",
              " '阿里 · 汉 ',\n",
              " '米卢 … … 。 来 之前 一个 比 一个 有名 ',\n",
              " '来 之后 一个 比 一个 水 ',\n",
              " '国足 踢 不好 完全 是 足协 的 问题 ',\n",
              " '足协 不 解散 重组 ',\n",
              " '你 把 天王老子 请来 都 不行 斯科拉里 想 执教 中国 国 足 ',\n",
              " '老头 有点 意思 ',\n",
              " '凡是 里 皮 干 过 的 地方 ',\n",
              " '他 就 想 试试 。 当然 ',\n",
              " '老头 也 是 世界杯 冠军 教头 ',\n",
              " '万一 折 中国 也 没 啥 丢人 的 ',\n",
              " '毕竟 里 皮 也 折 了 嘛 ',\n",
              " '可以 试试 ',\n",
              " '斯科拉里 的 水平 ',\n",
              " '还 不如 里 皮 。 斯科拉里 ',\n",
              " '看好 的 不是 国 足 ',\n",
              " '而是 年薪 … …   \\u200b 非常 应该 辞职 ',\n",
              " '中国 足球 ',\n",
              " '不 需要 名帅 ',\n",
              " '也 不 需要 外籍 教练 ',\n",
              " '一点儿 毛用 也 没有 ',\n",
              " '从 施拉普纳 到 现在 ',\n",
              " '二十余年 间 ',\n",
              " '中国 足球 竟然 大踏步 的 倒退 ',\n",
              " '一点儿 也 杀 不住 车 ',\n",
              " '奶奶 的 ',\n",
              " '刹车 系统 坏 了 ',\n",
              " '穿着 几百块 钱 的 球衣 ',\n",
              " '几千块 钱 的 球鞋 ',\n",
              " '几万块 钱 的 包 ',\n",
              " '几十万 的 包机 ',\n",
              " '几百万 上 千万 的 年薪 赛后 ',\n",
              " '叙利亚 主教练 更衣室 里 给 每个 队员 一个 耳光 。 主教练 说 ： “ 赛前 老子 就 再三 交代 ',\n",
              " '一场 无论如何 都 不能 赢 中国队 ',\n",
              " '中国 援助 了 我们 那么 多 粮食 和 美金 ',\n",
              " '如果 他们 不再 援助 我们 国家 ',\n",
              " '你 狗日 些 要 吃 土 去 ',\n",
              " '” ',\n",
              " '球员 委屈 的 说 ： “ 七十多 分钟 了 ',\n",
              " '哪个 晓得 那个 龟儿子 往 他们 家 球门 踢 嘛 ',\n",
              " '” 里 皮 辞职 返回 意大利 ',\n",
              " '他 的 助教 马达 洛尼 随队 返回 广州 。 马达 洛尼 接受 采访 时 还原 了 当时 更衣室 中 的 情况 ： “ 当时 更衣室 ',\n",
              " '球员 们 都 过来 试图 说服 里 皮 ',\n",
              " '让 他 收回 决定 ',\n",
              " '队长 郑智 尝试 阻止 他 ',\n",
              " '足协 的 代表 也 希望 他 考虑一下 ',\n",
              " '我 也 建议 他 重新考虑 ',\n",
              " '但 无济于事 。 ” 中国足协 ： 接受 里 皮 辞职 请求 ',\n",
              " '将 深刻反思 看 了 个 报道 ',\n",
              " '马达 洛尼 说 ： “ 关于 里 皮 的 辞职 ',\n",
              " '我 事先 也 没有 被 告知 ',\n",
              " '也 不 清楚 发生 了 什么 ',\n",
              " '也许 是 里 皮 头脑 一热 的 决定 。 足协 也 可以 留下 我们 ',\n",
              " '教练组 所有 成员 都 愿意 留下 ',\n",
              " '我们 也 可以 和 其他 教练 合作 。 ”   \\u200b 中国队 给 斯科拉里 开足 了 薪水 ',\n",
              " '给 足 了 他 需要 的 条件 ',\n",
              " '尤其 是 最后 一句 话 ',\n",
              " '看好 中国队 的 潜力 ',\n",
              " '句 话 真是太 鼓舞人心 啦 ',\n",
              " '  \\u200b 带队 结果 绝不会 比里皮 更 差 ',\n",
              " '  \\u200b 而且 我 一定 能带 国 足 夺得 2022 世界杯 冠军 ',\n",
              " '大家 支持 斯科拉里 不 ',\n",
              " '  \\u200b 曾经 也 以为 世界 名帅 里 皮 能够 带领 国 足 走出 迷茫 ',\n",
              " '让 国足 蒸蒸日上 ',\n",
              " '也 让 我们 国人 不再 迷茫 ',\n",
              " '吃 下 一颗 定心丸 。 现在 我 才 知道 ',\n",
              " '其实 最 应 改变 的 不是 教练 ',\n",
              " '而是 我们 的 国足 ',\n",
              " '我们 的 训练 机制 、 学习 机制 、 培养 机制 。 真正 做好 ',\n",
              " '才能 使 无论 哪位 名帅 接手 都 能 游刃有余 地 打好 比赛 。 国 足 输给 叙利亚 后 ',\n",
              " '里 皮 坐不住 了 ',\n",
              " '直接 辞职 了 难怪 网友 说 ',\n",
              " '爱护 生命 ',\n",
              " '远离 男足 。 男足 的 水平 也 就 跟 南极洲 企鹅 踢球 。 足协 主席 赠书 《 红星 我 去 战斗 》 送给 中国 国脚 ',\n",
              " '埃 尔克 森 、 里 皮 懂 红色 文化 吗 ',\n",
              " '国 足 昨晚 1 - 2 输给 叙利亚 ',\n",
              " '赛后 主帅 里 皮 宣布 辞职 。 ']"
            ]
          },
          "metadata": {
            "tags": []
          },
          "execution_count": 51
        }
      ]
    },
    {
      "cell_type": "code",
      "metadata": {
        "id": "22pg0xZSRdTL",
        "colab_type": "code",
        "colab": {}
      },
      "source": [
        "minhash_list = []\n",
        "forest = MinHashLSHForest()\n",
        "for i in range(len(documents)):\n",
        "  temp = get_minhash(documents[i])\n",
        "  minhash_list.append(temp)\n",
        "  forest.add(i, temp)"
      ],
      "execution_count": 71,
      "outputs": []
    },
    {
      "cell_type": "code",
      "metadata": {
        "id": "ddzxzK9-SJyb",
        "colab_type": "code",
        "colab": {}
      },
      "source": [
        "forest.index()"
      ],
      "execution_count": 72,
      "outputs": []
    },
    {
      "cell_type": "code",
      "metadata": {
        "id": "TfVZoCXTSNPi",
        "colab_type": "code",
        "colab": {}
      },
      "source": [
        "query = '里皮的辞职'"
      ],
      "execution_count": 73,
      "outputs": []
    },
    {
      "cell_type": "code",
      "metadata": {
        "id": "JdofVQEWShRq",
        "colab_type": "code",
        "colab": {}
      },
      "source": [
        "item_str = get_item_str(query)"
      ],
      "execution_count": 74,
      "outputs": []
    },
    {
      "cell_type": "code",
      "metadata": {
        "id": "w2z0FVNJSk3a",
        "colab_type": "code",
        "colab": {}
      },
      "source": [
        "minhash_query = get_minhash(item_str)"
      ],
      "execution_count": 75,
      "outputs": []
    },
    {
      "cell_type": "code",
      "metadata": {
        "id": "ieah0kf2a-Le",
        "colab_type": "code",
        "colab": {
          "base_uri": "https://localhost:8080/",
          "height": 34
        },
        "outputId": "fd3a6c8e-7e12-4e33-e64c-d79c96dd83ad"
      },
      "source": [
        "minhash_query"
      ],
      "execution_count": 76,
      "outputs": [
        {
          "output_type": "execute_result",
          "data": {
            "text/plain": [
              "<datasketch.minhash.MinHash at 0x7f3df97b2710>"
            ]
          },
          "metadata": {
            "tags": []
          },
          "execution_count": 76
        }
      ]
    },
    {
      "cell_type": "code",
      "metadata": {
        "id": "dpQX9Wu2SrYt",
        "colab_type": "code",
        "colab": {}
      },
      "source": [
        "result = forest.query(minhash_query, 3)"
      ],
      "execution_count": 77,
      "outputs": []
    },
    {
      "cell_type": "code",
      "metadata": {
        "id": "UchESwvBSy0j",
        "colab_type": "code",
        "colab": {
          "base_uri": "https://localhost:8080/",
          "height": 67
        },
        "outputId": "a7a54644-f038-441e-a2b1-0d84c483e9cc"
      },
      "source": [
        "for i in range(len(result)):\n",
        "  print(result[i], minhash_query.jaccard(minhash_list[result[i]]), documents[result[i]].replace(' ', ''))\n",
        "  # print(result[i])"
      ],
      "execution_count": 79,
      "outputs": [
        {
          "output_type": "stream",
          "text": [
            "65 0.4296875 马达洛尼说：“关于里皮的辞职\n",
            "26 0.109375 万一折中国也没啥丢人的\n",
            "23 0.3125 凡是里皮干过的地方\n"
          ],
          "name": "stdout"
        }
      ]
    }
  ]
}